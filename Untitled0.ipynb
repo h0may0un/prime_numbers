{
  "nbformat": 4,
  "nbformat_minor": 0,
  "metadata": {
    "colab": {
      "provenance": [],
      "gpuType": "T4",
      "mount_file_id": "1t2-_9L8ErebY9c_biFGey79j1nf4CKv6",
      "authorship_tag": "ABX9TyM0dVjGT32OXh0rLzFNvFMh",
      "include_colab_link": true
    },
    "kernelspec": {
      "name": "python3",
      "display_name": "Python 3"
    },
    "language_info": {
      "name": "python"
    },
    "accelerator": "GPU",
    "gpuClass": "standard"
  },
  "cells": [
    {
      "cell_type": "markdown",
      "metadata": {
        "id": "view-in-github",
        "colab_type": "text"
      },
      "source": [
        "<a href=\"https://colab.research.google.com/github/h0may0un/prime_numbers/blob/main/Untitled0.ipynb\" target=\"_parent\"><img src=\"https://colab.research.google.com/assets/colab-badge.svg\" alt=\"Open In Colab\"/></a>"
      ]
    },
    {
      "cell_type": "code",
      "execution_count": 2,
      "metadata": {
        "id": "XfTGNRCcELqK",
        "colab": {
          "base_uri": "https://localhost:8080/",
          "height": 396
        },
        "outputId": "69c71ad6-c017-432a-b62e-2530efb14ef3"
      },
      "outputs": [
        {
          "output_type": "stream",
          "name": "stdout",
          "text": [
            "        step size     new len       run time      last prime\n"
          ]
        },
        {
          "output_type": "error",
          "ename": "FileNotFoundError",
          "evalue": "ignored",
          "traceback": [
            "\u001b[0;31m---------------------------------------------------------------------------\u001b[0m",
            "\u001b[0;31mFileNotFoundError\u001b[0m                         Traceback (most recent call last)",
            "\u001b[0;32m<ipython-input-2-bd0eed0cbb40>\u001b[0m in \u001b[0;36m<cell line: 74>\u001b[0;34m()\u001b[0m\n\u001b[1;32m     72\u001b[0m \u001b[0;34m\u001b[0m\u001b[0m\n\u001b[1;32m     73\u001b[0m \u001b[0;34m\u001b[0m\u001b[0m\n\u001b[0;32m---> 74\u001b[0;31m \u001b[0mgentle_walk\u001b[0m\u001b[0;34m(\u001b[0m\u001b[0;36m10\u001b[0m\u001b[0;34m,\u001b[0m\u001b[0;36m0.8\u001b[0m\u001b[0;34m)\u001b[0m\u001b[0;34m\u001b[0m\u001b[0;34m\u001b[0m\u001b[0m\n\u001b[0m\u001b[1;32m     75\u001b[0m \u001b[0;31m# walk(50000)\u001b[0m\u001b[0;34m\u001b[0m\u001b[0;34m\u001b[0m\u001b[0m\n",
            "\u001b[0;32m<ipython-input-2-bd0eed0cbb40>\u001b[0m in \u001b[0;36mgentle_walk\u001b[0;34m(desired_step_time, max_error_time, step_num)\u001b[0m\n\u001b[1;32m     54\u001b[0m       \u001b[0;32mwhile\u001b[0m \u001b[0;32mTrue\u001b[0m\u001b[0;34m:\u001b[0m\u001b[0;34m\u001b[0m\u001b[0;34m\u001b[0m\u001b[0m\n\u001b[1;32m     55\u001b[0m         \u001b[0mstepsize\u001b[0m \u001b[0;34m=\u001b[0m \u001b[0mtodo_stepsize\u001b[0m\u001b[0;34m[\u001b[0m\u001b[0;34m-\u001b[0m\u001b[0;36m1\u001b[0m\u001b[0;34m]\u001b[0m\u001b[0;34m\u001b[0m\u001b[0;34m\u001b[0m\u001b[0m\n\u001b[0;32m---> 56\u001b[0;31m         \u001b[0;34m(\u001b[0m \u001b[0mstep_size\u001b[0m \u001b[0;34m,\u001b[0m \u001b[0mnew_found_len\u001b[0m \u001b[0;34m,\u001b[0m \u001b[0mruntime\u001b[0m \u001b[0;34m,\u001b[0m \u001b[0mlast_prime\u001b[0m \u001b[0;34m)\u001b[0m \u001b[0;34m=\u001b[0m \u001b[0mone_step\u001b[0m\u001b[0;34m(\u001b[0m\u001b[0mstepsize\u001b[0m\u001b[0;34m)\u001b[0m\u001b[0;34m\u001b[0m\u001b[0;34m\u001b[0m\u001b[0m\n\u001b[0m\u001b[1;32m     57\u001b[0m         \u001b[0mprint\u001b[0m\u001b[0;34m(\u001b[0m\u001b[0mstr\u001b[0m\u001b[0;34m(\u001b[0m\u001b[0mi\u001b[0m\u001b[0;34m)\u001b[0m\u001b[0;34m.\u001b[0m\u001b[0mrjust\u001b[0m\u001b[0;34m(\u001b[0m\u001b[0;36m4\u001b[0m\u001b[0;34m)\u001b[0m \u001b[0;34m+\u001b[0m\u001b[0;34m\"    \"\u001b[0m\u001b[0;34m+\u001b[0m \u001b[0;34mf\"{step_size}\\t{new_found_len}\\t{runtime}\\t{last_prime}\"\u001b[0m\u001b[0;34m.\u001b[0m\u001b[0mexpandtabs\u001b[0m\u001b[0;34m(\u001b[0m\u001b[0;36m14\u001b[0m\u001b[0;34m)\u001b[0m\u001b[0;34m)\u001b[0m\u001b[0;34m\u001b[0m\u001b[0;34m\u001b[0m\u001b[0m\n\u001b[1;32m     58\u001b[0m         \u001b[0mf\u001b[0m\u001b[0;34m.\u001b[0m\u001b[0mwrite\u001b[0m\u001b[0;34m(\u001b[0m\u001b[0mstr\u001b[0m\u001b[0;34m(\u001b[0m\u001b[0mi\u001b[0m\u001b[0;34m)\u001b[0m\u001b[0;34m.\u001b[0m\u001b[0mrjust\u001b[0m\u001b[0;34m(\u001b[0m\u001b[0;36m4\u001b[0m\u001b[0;34m)\u001b[0m \u001b[0;34m+\u001b[0m\u001b[0;34m\"    \"\u001b[0m\u001b[0;34m+\u001b[0m \u001b[0;34mf\"{step_size}\\t{new_found_len}\\t{runtime}\\t{last_prime}\\n\"\u001b[0m\u001b[0;34m.\u001b[0m\u001b[0mexpandtabs\u001b[0m\u001b[0;34m(\u001b[0m\u001b[0;36m14\u001b[0m\u001b[0;34m)\u001b[0m\u001b[0;34m)\u001b[0m\u001b[0;34m\u001b[0m\u001b[0;34m\u001b[0m\u001b[0m\n",
            "\u001b[0;32m<ipython-input-2-bd0eed0cbb40>\u001b[0m in \u001b[0;36mone_step\u001b[0;34m(step_size)\u001b[0m\n\u001b[1;32m      2\u001b[0m \u001b[0;32mdef\u001b[0m \u001b[0mone_step\u001b[0m\u001b[0;34m(\u001b[0m\u001b[0mstep_size\u001b[0m\u001b[0;34m)\u001b[0m\u001b[0;34m:\u001b[0m\u001b[0;34m\u001b[0m\u001b[0;34m\u001b[0m\u001b[0m\n\u001b[1;32m      3\u001b[0m   \u001b[0mtic\u001b[0m \u001b[0;34m=\u001b[0m \u001b[0mtime\u001b[0m\u001b[0;34m.\u001b[0m\u001b[0mtime\u001b[0m\u001b[0;34m(\u001b[0m\u001b[0;34m)\u001b[0m\u001b[0;34m\u001b[0m\u001b[0;34m\u001b[0m\u001b[0m\n\u001b[0;32m----> 4\u001b[0;31m   \u001b[0;32mwith\u001b[0m \u001b[0mopen\u001b[0m\u001b[0;34m(\u001b[0m\u001b[0;34m\"/content/prime_numbers.txt\"\u001b[0m\u001b[0;34m,\u001b[0m\u001b[0;34m'r'\u001b[0m\u001b[0;34m)\u001b[0m \u001b[0;32mas\u001b[0m \u001b[0mf\u001b[0m\u001b[0;34m:\u001b[0m\u001b[0;34m\u001b[0m\u001b[0;34m\u001b[0m\u001b[0m\n\u001b[0m\u001b[1;32m      5\u001b[0m     \u001b[0mprimes\u001b[0m \u001b[0;34m=\u001b[0m \u001b[0;34m[\u001b[0m\u001b[0mint\u001b[0m\u001b[0;34m(\u001b[0m\u001b[0mx\u001b[0m\u001b[0;34m[\u001b[0m\u001b[0;34m:\u001b[0m\u001b[0;34m-\u001b[0m\u001b[0;36m1\u001b[0m\u001b[0;34m]\u001b[0m\u001b[0;34m)\u001b[0m \u001b[0;32mfor\u001b[0m \u001b[0mx\u001b[0m \u001b[0;32min\u001b[0m \u001b[0mf\u001b[0m\u001b[0;34m.\u001b[0m\u001b[0mreadlines\u001b[0m\u001b[0;34m(\u001b[0m\u001b[0;34m)\u001b[0m \u001b[0;32mif\u001b[0m \u001b[0;32mTrue\u001b[0m\u001b[0;34m]\u001b[0m\u001b[0;34m\u001b[0m\u001b[0;34m\u001b[0m\u001b[0m\n\u001b[1;32m      6\u001b[0m     \u001b[0mi\u001b[0m \u001b[0;34m=\u001b[0m \u001b[0mprimes\u001b[0m\u001b[0;34m[\u001b[0m\u001b[0;34m-\u001b[0m\u001b[0;36m1\u001b[0m\u001b[0;34m]\u001b[0m \u001b[0;34m+\u001b[0m \u001b[0;36m1\u001b[0m\u001b[0;34m\u001b[0m\u001b[0;34m\u001b[0m\u001b[0m\n",
            "\u001b[0;31mFileNotFoundError\u001b[0m: [Errno 2] No such file or directory: '/content/prime_numbers.txt'"
          ]
        }
      ],
      "source": [
        "import time\n",
        "def one_step(step_size):\n",
        "  tic = time.time()\n",
        "  with open(\"/content/prime_numbers.txt\",'r') as f:\n",
        "    primes = [int(x[:-1]) for x in f.readlines() if True]\n",
        "    i = primes[-1] + 1\n",
        "    last_len = len(primes)\n",
        "\n",
        "  with open(\"/content/prime_numbers.txt\",'a') as f:\n",
        "    limit = i+step_size\n",
        "    while i<limit:\n",
        "      for any in primes:\n",
        "        if i%any == 0:\n",
        "          break\n",
        "      else:\n",
        "        primes.append(i)\n",
        "        f.write(str(i)+'\\n')\n",
        "      i+=1\n",
        "    toc = time.time()\n",
        "    runtime = round( (toc-tic) , 2 )\n",
        "    return ( step_size , len(primes)-last_len , runtime , primes[-1] )\n",
        "\"\"\"\n",
        "something to get form one_step function:\n",
        "1 step size\n",
        "2 new found prime numbers\n",
        "3 run time\n",
        "4 last prime number\n",
        "\"\"\"\n",
        "\n",
        "def walk(stepsize , step_num = 'non_stop'):\n",
        "  if step_num == 'non_stop':\n",
        "    print(\"        \"+f\"step size\\tnew len\\trun time\\tlast prime\".expandtabs(14))\n",
        "    i = 1\n",
        "    with open(\"/content/log.txt\",'a') as f:\n",
        "      while True:\n",
        "        ( step_size , new_found_len , runtime , last_prime ) = one_step(stepsize)\n",
        "        print(str(i).rjust(4) +\"    \"+ f\"{step_size}\\t{new_found_len}\\t{runtime}\\t{last_prime}\".expandtabs(14))\n",
        "        f.write(str(i).rjust(4) +\"    \"+ f\"{step_size}\\t{new_found_len}\\t{runtime}\\t{last_prime}\\n\".expandtabs(14))\n",
        "        i += 1\n",
        "\n",
        "\n",
        "def gentle_walk(desired_step_time , max_error_time , step_num = 'non_stop'):\n",
        "  if step_num == 'non_stop':\n",
        "    print(\"        \"+f\"step size\\tnew len\\trun time\\tlast prime\".expandtabs(14))\n",
        "    i = 1\n",
        "    with open(\"/content/log.txt\",'a') as f:\n",
        "\n",
        "      time_per_step = []\n",
        "      #the list contains (step_size , step_time) pairs\n",
        "      todo_stepsize = [5000]\n",
        "\n",
        "\n",
        "\n",
        "      while True:\n",
        "        stepsize = todo_stepsize[-1]\n",
        "        ( step_size , new_found_len , runtime , last_prime ) = one_step(stepsize)\n",
        "        print(str(i).rjust(4) +\"    \"+ f\"{step_size}\\t{new_found_len}\\t{runtime}\\t{last_prime}\".expandtabs(14))\n",
        "        f.write(str(i).rjust(4) +\"    \"+ f\"{step_size}\\t{new_found_len}\\t{runtime}\\t{last_prime}\\n\".expandtabs(14))\n",
        "        i += 1\n",
        "\n",
        "        time_per_step.append( (step_size , runtime) )\n",
        "        if abs(time_per_step[-1][1] - desired_step_time) > max_error_time :\n",
        "          coef = desired_step_time / time_per_step[-1][1]\n",
        "          todo_stepsize.append( int(time_per_step[-1][0]*coef) )\n",
        "        \n",
        "\n",
        "\n",
        "\n",
        "\n",
        "\n",
        "\n",
        "\n",
        "\n",
        "gentle_walk(10,0.8)\n",
        "# walk(50000)\n"
      ]
    },
    {
      "cell_type": "code",
      "source": [
        "def func():\n",
        "  print(1)\n",
        "  return 12\n",
        "func()"
      ],
      "metadata": {
        "id": "csMxBFPdXpo1"
      },
      "execution_count": null,
      "outputs": []
    },
    {
      "cell_type": "code",
      "source": [
        "print (round(123.12345 ,))"
      ],
      "metadata": {
        "id": "nVd2aEhMaICl"
      },
      "execution_count": null,
      "outputs": []
    },
    {
      "cell_type": "code",
      "source": [
        "print('1'.zfill(4))\n",
        "print('2'.rjust(4))"
      ],
      "metadata": {
        "colab": {
          "base_uri": "https://localhost:8080/"
        },
        "id": "NnvxxBe5c_iW",
        "outputId": "d4c02f2b-ab1c-4dcf-9185-7963e97b7f75"
      },
      "execution_count": null,
      "outputs": [
        {
          "output_type": "stream",
          "name": "stdout",
          "text": [
            "0001\n",
            "   2\n"
          ]
        }
      ]
    }
  ]
}